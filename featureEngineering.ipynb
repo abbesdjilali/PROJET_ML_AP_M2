{
 "cells": [
  {
   "cell_type": "markdown",
   "metadata": {},
   "source": [
    "# Partie 3: Feature Engineering et Feature Importance\n",
    "- #### Affichage sous forme de barplot des Features Importantes \n",
    "- #### Expliquer votre selection de feature\n",
    "### selectionner ma target et mes features avec SelectKBest\n",
    "https://scikit-learn.org/stable/modules/generated/sklearn.feature_selection.SelectKBest.html"
   ]
  },
  {
   "cell_type": "code",
   "execution_count": 18,
   "metadata": {},
   "outputs": [],
   "source": [
    "import pandas as pd\n",
    "import numpy as np\n",
    "import matplotlib.pyplot as plt\n",
    "import seaborn as sns \n",
    "# Importer SelectKBest and f_classif\n",
    "from sklearn.feature_selection import SelectKBest,f_classif"
   ]
  },
  {
   "cell_type": "code",
   "execution_count": 19,
   "metadata": {},
   "outputs": [
    {
     "data": {
      "text/html": [
       "<div>\n",
       "<style scoped>\n",
       "    .dataframe tbody tr th:only-of-type {\n",
       "        vertical-align: middle;\n",
       "    }\n",
       "\n",
       "    .dataframe tbody tr th {\n",
       "        vertical-align: top;\n",
       "    }\n",
       "\n",
       "    .dataframe thead th {\n",
       "        text-align: right;\n",
       "    }\n",
       "</style>\n",
       "<table border=\"1\" class=\"dataframe\">\n",
       "  <thead>\n",
       "    <tr style=\"text-align: right;\">\n",
       "      <th></th>\n",
       "      <th>Unnamed: 0</th>\n",
       "      <th>Age</th>\n",
       "      <th>Gender</th>\n",
       "      <th>Air Pollution</th>\n",
       "      <th>Alcohol use</th>\n",
       "      <th>Dust Allergy</th>\n",
       "      <th>OccuPational Hazards</th>\n",
       "      <th>Genetic Risk</th>\n",
       "      <th>chronic Lung Disease</th>\n",
       "      <th>Balanced Diet</th>\n",
       "      <th>...</th>\n",
       "      <th>Fatigue</th>\n",
       "      <th>Weight Loss</th>\n",
       "      <th>Shortness of Breath</th>\n",
       "      <th>Wheezing</th>\n",
       "      <th>Swallowing Difficulty</th>\n",
       "      <th>Clubbing of Finger Nails</th>\n",
       "      <th>Frequent Cold</th>\n",
       "      <th>Dry Cough</th>\n",
       "      <th>Snoring</th>\n",
       "      <th>Level</th>\n",
       "    </tr>\n",
       "  </thead>\n",
       "  <tbody>\n",
       "    <tr>\n",
       "      <th>0</th>\n",
       "      <td>0</td>\n",
       "      <td>33</td>\n",
       "      <td>1</td>\n",
       "      <td>2</td>\n",
       "      <td>4</td>\n",
       "      <td>5</td>\n",
       "      <td>4</td>\n",
       "      <td>3</td>\n",
       "      <td>2</td>\n",
       "      <td>2</td>\n",
       "      <td>...</td>\n",
       "      <td>3</td>\n",
       "      <td>4</td>\n",
       "      <td>2</td>\n",
       "      <td>2</td>\n",
       "      <td>3</td>\n",
       "      <td>1</td>\n",
       "      <td>2</td>\n",
       "      <td>3</td>\n",
       "      <td>4</td>\n",
       "      <td>0</td>\n",
       "    </tr>\n",
       "    <tr>\n",
       "      <th>1</th>\n",
       "      <td>1</td>\n",
       "      <td>17</td>\n",
       "      <td>1</td>\n",
       "      <td>3</td>\n",
       "      <td>1</td>\n",
       "      <td>5</td>\n",
       "      <td>3</td>\n",
       "      <td>4</td>\n",
       "      <td>2</td>\n",
       "      <td>2</td>\n",
       "      <td>...</td>\n",
       "      <td>1</td>\n",
       "      <td>3</td>\n",
       "      <td>7</td>\n",
       "      <td>8</td>\n",
       "      <td>6</td>\n",
       "      <td>2</td>\n",
       "      <td>1</td>\n",
       "      <td>7</td>\n",
       "      <td>2</td>\n",
       "      <td>1</td>\n",
       "    </tr>\n",
       "    <tr>\n",
       "      <th>2</th>\n",
       "      <td>2</td>\n",
       "      <td>35</td>\n",
       "      <td>1</td>\n",
       "      <td>4</td>\n",
       "      <td>5</td>\n",
       "      <td>6</td>\n",
       "      <td>5</td>\n",
       "      <td>5</td>\n",
       "      <td>4</td>\n",
       "      <td>6</td>\n",
       "      <td>...</td>\n",
       "      <td>8</td>\n",
       "      <td>7</td>\n",
       "      <td>9</td>\n",
       "      <td>2</td>\n",
       "      <td>1</td>\n",
       "      <td>4</td>\n",
       "      <td>6</td>\n",
       "      <td>7</td>\n",
       "      <td>2</td>\n",
       "      <td>2</td>\n",
       "    </tr>\n",
       "    <tr>\n",
       "      <th>3</th>\n",
       "      <td>3</td>\n",
       "      <td>37</td>\n",
       "      <td>1</td>\n",
       "      <td>7</td>\n",
       "      <td>7</td>\n",
       "      <td>7</td>\n",
       "      <td>7</td>\n",
       "      <td>6</td>\n",
       "      <td>7</td>\n",
       "      <td>7</td>\n",
       "      <td>...</td>\n",
       "      <td>4</td>\n",
       "      <td>2</td>\n",
       "      <td>3</td>\n",
       "      <td>1</td>\n",
       "      <td>4</td>\n",
       "      <td>5</td>\n",
       "      <td>6</td>\n",
       "      <td>7</td>\n",
       "      <td>5</td>\n",
       "      <td>2</td>\n",
       "    </tr>\n",
       "    <tr>\n",
       "      <th>4</th>\n",
       "      <td>4</td>\n",
       "      <td>46</td>\n",
       "      <td>1</td>\n",
       "      <td>6</td>\n",
       "      <td>8</td>\n",
       "      <td>7</td>\n",
       "      <td>7</td>\n",
       "      <td>7</td>\n",
       "      <td>6</td>\n",
       "      <td>7</td>\n",
       "      <td>...</td>\n",
       "      <td>3</td>\n",
       "      <td>2</td>\n",
       "      <td>4</td>\n",
       "      <td>1</td>\n",
       "      <td>4</td>\n",
       "      <td>2</td>\n",
       "      <td>4</td>\n",
       "      <td>2</td>\n",
       "      <td>3</td>\n",
       "      <td>2</td>\n",
       "    </tr>\n",
       "  </tbody>\n",
       "</table>\n",
       "<p>5 rows × 25 columns</p>\n",
       "</div>"
      ],
      "text/plain": [
       "   Unnamed: 0  Age  Gender  Air Pollution  Alcohol use  Dust Allergy  \\\n",
       "0           0   33       1              2            4             5   \n",
       "1           1   17       1              3            1             5   \n",
       "2           2   35       1              4            5             6   \n",
       "3           3   37       1              7            7             7   \n",
       "4           4   46       1              6            8             7   \n",
       "\n",
       "   OccuPational Hazards  Genetic Risk  chronic Lung Disease  Balanced Diet  \\\n",
       "0                     4             3                     2              2   \n",
       "1                     3             4                     2              2   \n",
       "2                     5             5                     4              6   \n",
       "3                     7             6                     7              7   \n",
       "4                     7             7                     6              7   \n",
       "\n",
       "   ...  Fatigue  Weight Loss  Shortness of Breath  Wheezing  \\\n",
       "0  ...        3            4                    2         2   \n",
       "1  ...        1            3                    7         8   \n",
       "2  ...        8            7                    9         2   \n",
       "3  ...        4            2                    3         1   \n",
       "4  ...        3            2                    4         1   \n",
       "\n",
       "   Swallowing Difficulty  Clubbing of Finger Nails  Frequent Cold  Dry Cough  \\\n",
       "0                      3                         1              2          3   \n",
       "1                      6                         2              1          7   \n",
       "2                      1                         4              6          7   \n",
       "3                      4                         5              6          7   \n",
       "4                      4                         2              4          2   \n",
       "\n",
       "   Snoring  Level  \n",
       "0        4      0  \n",
       "1        2      1  \n",
       "2        2      2  \n",
       "3        5      2  \n",
       "4        3      2  \n",
       "\n",
       "[5 rows x 25 columns]"
      ]
     },
     "execution_count": 19,
     "metadata": {},
     "output_type": "execute_result"
    }
   ],
   "source": [
    "# Importer notre nouveau dataset\n",
    "df = pd.read_csv('./data/new_cancer.csv')\n",
    "df.head()\n",
    "\n"
   ]
  },
  {
   "cell_type": "code",
   "execution_count": 20,
   "metadata": {},
   "outputs": [
    {
     "data": {
      "text/html": [
       "<div>\n",
       "<style scoped>\n",
       "    .dataframe tbody tr th:only-of-type {\n",
       "        vertical-align: middle;\n",
       "    }\n",
       "\n",
       "    .dataframe tbody tr th {\n",
       "        vertical-align: top;\n",
       "    }\n",
       "\n",
       "    .dataframe thead th {\n",
       "        text-align: right;\n",
       "    }\n",
       "</style>\n",
       "<table border=\"1\" class=\"dataframe\">\n",
       "  <thead>\n",
       "    <tr style=\"text-align: right;\">\n",
       "      <th></th>\n",
       "      <th>Age</th>\n",
       "      <th>Gender</th>\n",
       "      <th>Air Pollution</th>\n",
       "      <th>Alcohol use</th>\n",
       "      <th>Dust Allergy</th>\n",
       "      <th>OccuPational Hazards</th>\n",
       "      <th>Genetic Risk</th>\n",
       "      <th>chronic Lung Disease</th>\n",
       "      <th>Balanced Diet</th>\n",
       "      <th>Obesity</th>\n",
       "      <th>...</th>\n",
       "      <th>Fatigue</th>\n",
       "      <th>Weight Loss</th>\n",
       "      <th>Shortness of Breath</th>\n",
       "      <th>Wheezing</th>\n",
       "      <th>Swallowing Difficulty</th>\n",
       "      <th>Clubbing of Finger Nails</th>\n",
       "      <th>Frequent Cold</th>\n",
       "      <th>Dry Cough</th>\n",
       "      <th>Snoring</th>\n",
       "      <th>Level</th>\n",
       "    </tr>\n",
       "  </thead>\n",
       "  <tbody>\n",
       "    <tr>\n",
       "      <th>0</th>\n",
       "      <td>33</td>\n",
       "      <td>1</td>\n",
       "      <td>2</td>\n",
       "      <td>4</td>\n",
       "      <td>5</td>\n",
       "      <td>4</td>\n",
       "      <td>3</td>\n",
       "      <td>2</td>\n",
       "      <td>2</td>\n",
       "      <td>4</td>\n",
       "      <td>...</td>\n",
       "      <td>3</td>\n",
       "      <td>4</td>\n",
       "      <td>2</td>\n",
       "      <td>2</td>\n",
       "      <td>3</td>\n",
       "      <td>1</td>\n",
       "      <td>2</td>\n",
       "      <td>3</td>\n",
       "      <td>4</td>\n",
       "      <td>0</td>\n",
       "    </tr>\n",
       "    <tr>\n",
       "      <th>1</th>\n",
       "      <td>17</td>\n",
       "      <td>1</td>\n",
       "      <td>3</td>\n",
       "      <td>1</td>\n",
       "      <td>5</td>\n",
       "      <td>3</td>\n",
       "      <td>4</td>\n",
       "      <td>2</td>\n",
       "      <td>2</td>\n",
       "      <td>2</td>\n",
       "      <td>...</td>\n",
       "      <td>1</td>\n",
       "      <td>3</td>\n",
       "      <td>7</td>\n",
       "      <td>8</td>\n",
       "      <td>6</td>\n",
       "      <td>2</td>\n",
       "      <td>1</td>\n",
       "      <td>7</td>\n",
       "      <td>2</td>\n",
       "      <td>1</td>\n",
       "    </tr>\n",
       "    <tr>\n",
       "      <th>2</th>\n",
       "      <td>35</td>\n",
       "      <td>1</td>\n",
       "      <td>4</td>\n",
       "      <td>5</td>\n",
       "      <td>6</td>\n",
       "      <td>5</td>\n",
       "      <td>5</td>\n",
       "      <td>4</td>\n",
       "      <td>6</td>\n",
       "      <td>7</td>\n",
       "      <td>...</td>\n",
       "      <td>8</td>\n",
       "      <td>7</td>\n",
       "      <td>9</td>\n",
       "      <td>2</td>\n",
       "      <td>1</td>\n",
       "      <td>4</td>\n",
       "      <td>6</td>\n",
       "      <td>7</td>\n",
       "      <td>2</td>\n",
       "      <td>2</td>\n",
       "    </tr>\n",
       "    <tr>\n",
       "      <th>3</th>\n",
       "      <td>37</td>\n",
       "      <td>1</td>\n",
       "      <td>7</td>\n",
       "      <td>7</td>\n",
       "      <td>7</td>\n",
       "      <td>7</td>\n",
       "      <td>6</td>\n",
       "      <td>7</td>\n",
       "      <td>7</td>\n",
       "      <td>7</td>\n",
       "      <td>...</td>\n",
       "      <td>4</td>\n",
       "      <td>2</td>\n",
       "      <td>3</td>\n",
       "      <td>1</td>\n",
       "      <td>4</td>\n",
       "      <td>5</td>\n",
       "      <td>6</td>\n",
       "      <td>7</td>\n",
       "      <td>5</td>\n",
       "      <td>2</td>\n",
       "    </tr>\n",
       "    <tr>\n",
       "      <th>4</th>\n",
       "      <td>46</td>\n",
       "      <td>1</td>\n",
       "      <td>6</td>\n",
       "      <td>8</td>\n",
       "      <td>7</td>\n",
       "      <td>7</td>\n",
       "      <td>7</td>\n",
       "      <td>6</td>\n",
       "      <td>7</td>\n",
       "      <td>7</td>\n",
       "      <td>...</td>\n",
       "      <td>3</td>\n",
       "      <td>2</td>\n",
       "      <td>4</td>\n",
       "      <td>1</td>\n",
       "      <td>4</td>\n",
       "      <td>2</td>\n",
       "      <td>4</td>\n",
       "      <td>2</td>\n",
       "      <td>3</td>\n",
       "      <td>2</td>\n",
       "    </tr>\n",
       "  </tbody>\n",
       "</table>\n",
       "<p>5 rows × 24 columns</p>\n",
       "</div>"
      ],
      "text/plain": [
       "   Age  Gender  Air Pollution  Alcohol use  Dust Allergy  \\\n",
       "0   33       1              2            4             5   \n",
       "1   17       1              3            1             5   \n",
       "2   35       1              4            5             6   \n",
       "3   37       1              7            7             7   \n",
       "4   46       1              6            8             7   \n",
       "\n",
       "   OccuPational Hazards  Genetic Risk  chronic Lung Disease  Balanced Diet  \\\n",
       "0                     4             3                     2              2   \n",
       "1                     3             4                     2              2   \n",
       "2                     5             5                     4              6   \n",
       "3                     7             6                     7              7   \n",
       "4                     7             7                     6              7   \n",
       "\n",
       "   Obesity  ...  Fatigue  Weight Loss  Shortness of Breath  Wheezing  \\\n",
       "0        4  ...        3            4                    2         2   \n",
       "1        2  ...        1            3                    7         8   \n",
       "2        7  ...        8            7                    9         2   \n",
       "3        7  ...        4            2                    3         1   \n",
       "4        7  ...        3            2                    4         1   \n",
       "\n",
       "   Swallowing Difficulty  Clubbing of Finger Nails  Frequent Cold  Dry Cough  \\\n",
       "0                      3                         1              2          3   \n",
       "1                      6                         2              1          7   \n",
       "2                      1                         4              6          7   \n",
       "3                      4                         5              6          7   \n",
       "4                      4                         2              4          2   \n",
       "\n",
       "   Snoring  Level  \n",
       "0        4      0  \n",
       "1        2      1  \n",
       "2        2      2  \n",
       "3        5      2  \n",
       "4        3      2  \n",
       "\n",
       "[5 rows x 24 columns]"
      ]
     },
     "execution_count": 20,
     "metadata": {},
     "output_type": "execute_result"
    }
   ],
   "source": [
    "# Drop Unnamed column\n",
    "df = df.drop('Unnamed: 0',axis=1)\n",
    "df.head()"
   ]
  },
  {
   "cell_type": "code",
   "execution_count": 21,
   "metadata": {},
   "outputs": [],
   "source": [
    "\n",
    "X=df.drop(['Level'], axis=1)\n",
    "y=df['Level']"
   ]
  },
  {
   "cell_type": "code",
   "execution_count": 22,
   "metadata": {},
   "outputs": [
    {
     "data": {
      "text/plain": [
       "<AxesSubplot:xlabel='Score', ylabel='Feature'>"
      ]
     },
     "execution_count": 22,
     "metadata": {},
     "output_type": "execute_result"
    },
    {
     "data": {
      "image/png": "[encoded data removed]",
      "text/plain": [
       "<Figure size 720x720 with 1 Axes>"
      ]
     },
     "metadata": {
      "needs_background": "light"
     },
     "output_type": "display_data"
    }
   ],
   "source": [
    "#k=\"all\" c'est pour selectionner toutes les features\n",
    "featuresHighestScores = SelectKBest(f_classif,k=\"all\")\n",
    "\n",
    "#Entrainer mes features pour obtenir le score de chaqu'une d'elle \n",
    "fit = featuresHighestScores.fit(X,y)\n",
    "df_scores = pd.DataFrame(fit.scores_)\n",
    "\n",
    "#Selectionner que les features qui sont supérieur à la moyenne\n",
    "df_scores_selected = df_scores[lambda x: x > df_scores.mean()]\n",
    "df_columns = pd.DataFrame(X.columns)\n",
    "\n",
    "\n",
    "# #concaténer les deux dataframes\n",
    "df_features = pd.concat([df_columns,df_scores_selected],axis=1)\n",
    "df_features.columns = ['Feature','Score']\n",
    "\n",
    "\n",
    "fig, ax=plt.subplots(figsize=(10,10))\n",
    "plt.xlabel(\"Score\",   color='k')\n",
    "plt.ylabel(\"Feature\",  color='k')\n",
    "sns.barplot(data=df_features, x='Score', y='Feature')\n"
   ]
  },
  {
   "cell_type": "markdown",
   "metadata": {},
   "source": [
    "### Lors de l'exploration de notre dataset dans le fichier analyseGraphique.ipynb\n",
    "### nous avons trouvé quelques features plus intéréssantes que d'autres \n",
    "\n",
    "#### Maintenant que j'ai les features les plus intérésantes de mon dataset, je vais crée un nouveau dataset qui ne contiendra que ses features pour pouvoir ensuite entrainer un model de prédiction de niveau du cancer"
   ]
  },
  {
   "cell_type": "markdown",
   "metadata": {},
   "source": [
    "#### Supprimer les features non selectionnées"
   ]
  },
  {
   "cell_type": "code",
   "execution_count": 23,
   "metadata": {},
   "outputs": [],
   "source": [
    "df_features = df_features.dropna(axis=0)\n"
   ]
  },
  {
   "cell_type": "markdown",
   "metadata": {},
   "source": [
    "### Créer un nouveau dataset avec les features selectionnées"
   ]
  },
  {
   "cell_type": "code",
   "execution_count": 24,
   "metadata": {},
   "outputs": [
    {
     "name": "stdout",
     "output_type": "stream",
     "text": [
      "Ancien dataset  (1000, 24)\n",
      "Nouveau dataset avec les features les plus intérésantes  (1000, 12)\n",
      "Mon nouveau dataset contient 12 colonnes tandis que l'ancien contenait 24\n"
     ]
    }
   ],
   "source": [
    "features_tab  = list(df_features['Feature'])\n",
    "features_tab.append('Level')\n",
    "\n",
    "new_df = df[features_tab]\n",
    "print('Ancien dataset ',df.shape)\n",
    "print('Nouveau dataset avec les features les plus intérésantes ',new_df.shape)\n",
    "print(\"Mon nouveau dataset contient {} colonnes tandis que l'ancien contenait {}\".format(len(list(new_df.columns)),len(list(df.columns))))"
   ]
  },
  {
   "cell_type": "code",
   "execution_count": 25,
   "metadata": {},
   "outputs": [],
   "source": [
    "X = new_df.drop('Level',axis=1)\n",
    "# X = df[[\"Dust Allergy\",\"OccuPational Hazards\",\"Genetic Risk\",\"Obesity\",\"Coughing of Blood\"]]\n",
    "y = new_df[\"Level\"]"
   ]
  },
  {
   "cell_type": "code",
   "execution_count": 26,
   "metadata": {},
   "outputs": [],
   "source": [
    "\n",
    "from sklearn.model_selection import train_test_split\n",
    "X_train, X_test, y_train, y_test = train_test_split( X, y, test_size=0.2)"
   ]
  },
  {
   "cell_type": "code",
   "execution_count": 27,
   "metadata": {},
   "outputs": [
    {
     "name": "stderr",
     "output_type": "stream",
     "text": [
      "/home/djila/.local/lib/python3.8/site-packages/sklearn/svm/_base.py:985: ConvergenceWarning: Liblinear failed to converge, increase the number of iterations.\n",
      "  warnings.warn(\"Liblinear failed to converge, increase \"\n"
     ]
    },
    {
     "data": {
      "text/plain": [
       "LinearSVC()"
      ]
     },
     "execution_count": 27,
     "metadata": {},
     "output_type": "execute_result"
    }
   ],
   "source": [
    "from sklearn.svm import LinearSVC\n",
    "lsvc = LinearSVC()\n",
    "lsvc.fit(X_train, y_train)"
   ]
  },
  {
   "cell_type": "code",
   "execution_count": 28,
   "metadata": {},
   "outputs": [
    {
     "data": {
      "text/plain": [
       "0.79"
      ]
     },
     "execution_count": 28,
     "metadata": {},
     "output_type": "execute_result"
    }
   ],
   "source": [
    "lsvc.score(X_test,y_test)"
   ]
  },
  {
   "cell_type": "code",
   "execution_count": 30,
   "metadata": {},
   "outputs": [
    {
     "name": "stdout",
     "output_type": "stream",
     "text": [
      "Le score de train set est de 1.0 avec le KNeighborsClassifier model\n",
      "Le score de Test set est de 1.0 avec le KNeighborsClassifier model\n",
      "---------------------------------------n_neighbors= 5------------------------------------------\n",
      "\n",
      "Le score de train set est de 1.0 avec le KNeighborsClassifier model\n",
      "Le score de Test set est de 1.0 avec le KNeighborsClassifier model\n",
      "---------------------------------------n_neighbors= 6------------------------------------------\n",
      "\n",
      "Le score de train set est de 1.0 avec le KNeighborsClassifier model\n",
      "Le score de Test set est de 1.0 avec le KNeighborsClassifier model\n",
      "---------------------------------------n_neighbors= 7------------------------------------------\n",
      "\n",
      "Le score de train set est de 1.0 avec le KNeighborsClassifier model\n",
      "Le score de Test set est de 1.0 avec le KNeighborsClassifier model\n",
      "---------------------------------------n_neighbors= 8------------------------------------------\n",
      "\n",
      "Le score de train set est de 1.0 avec le KNeighborsClassifier model\n",
      "Le score de Test set est de 1.0 avec le KNeighborsClassifier model\n",
      "---------------------------------------n_neighbors= 9------------------------------------------\n",
      "\n",
      "Le score de train set est de 1.0 avec le KNeighborsClassifier model\n",
      "Le score de Test set est de 1.0 avec le KNeighborsClassifier model\n",
      "---------------------------------------n_neighbors= 10------------------------------------------\n",
      "\n",
      "Le score de train set est de 1.0 avec le KNeighborsClassifier model\n",
      "Le score de Test set est de 1.0 avec le KNeighborsClassifier model\n",
      "---------------------------------------n_neighbors= 11------------------------------------------\n",
      "\n",
      "Le score de train set est de 1.0 avec le KNeighborsClassifier model\n",
      "Le score de Test set est de 1.0 avec le KNeighborsClassifier model\n",
      "---------------------------------------n_neighbors= 12------------------------------------------\n",
      "\n",
      "Le score de train set est de 1.0 avec le KNeighborsClassifier model\n",
      "Le score de Test set est de 1.0 avec le KNeighborsClassifier model\n",
      "---------------------------------------n_neighbors= 13------------------------------------------\n",
      "\n",
      "Le score de train set est de 0.99125 avec le KNeighborsClassifier model\n",
      "Le score de Test set est de 0.985 avec le KNeighborsClassifier model\n",
      "---------------------------------------n_neighbors= 14------------------------------------------\n",
      "\n",
      "Le score de train set est de 0.9825 avec le KNeighborsClassifier model\n",
      "Le score de Test set est de 0.97 avec le KNeighborsClassifier model\n",
      "---------------------------------------n_neighbors= 15------------------------------------------\n",
      "\n",
      "Le score de train set est de 0.99125 avec le KNeighborsClassifier model\n",
      "Le score de Test set est de 0.985 avec le KNeighborsClassifier model\n",
      "---------------------------------------n_neighbors= 16------------------------------------------\n",
      "\n",
      "Le score de train set est de 0.97125 avec le KNeighborsClassifier model\n",
      "Le score de Test set est de 0.965 avec le KNeighborsClassifier model\n",
      "---------------------------------------n_neighbors= 17------------------------------------------\n",
      "\n",
      "Le score de train set est de 0.95125 avec le KNeighborsClassifier model\n",
      "Le score de Test set est de 0.945 avec le KNeighborsClassifier model\n",
      "---------------------------------------n_neighbors= 18------------------------------------------\n",
      "\n",
      "Le score de train set est de 0.95125 avec le KNeighborsClassifier model\n",
      "Le score de Test set est de 0.945 avec le KNeighborsClassifier model\n",
      "---------------------------------------n_neighbors= 19------------------------------------------\n",
      "\n",
      "Le score de train set est de 0.96 avec le KNeighborsClassifier model\n",
      "Le score de Test set est de 0.96 avec le KNeighborsClassifier model\n",
      "---------------------------------------n_neighbors= 20------------------------------------------\n",
      "\n",
      "Le score de train set est de 0.94875 avec le KNeighborsClassifier model\n",
      "Le score de Test set est de 0.955 avec le KNeighborsClassifier model\n",
      "---------------------------------------n_neighbors= 21------------------------------------------\n",
      "\n",
      "Le score de train set est de 0.94875 avec le KNeighborsClassifier model\n",
      "Le score de Test set est de 0.955 avec le KNeighborsClassifier model\n",
      "---------------------------------------n_neighbors= 22------------------------------------------\n",
      "\n",
      "Le score de train set est de 0.94875 avec le KNeighborsClassifier model\n",
      "Le score de Test set est de 0.955 avec le KNeighborsClassifier model\n",
      "---------------------------------------n_neighbors= 23------------------------------------------\n",
      "\n",
      "Le score de train set est de 0.94875 avec le KNeighborsClassifier model\n",
      "Le score de Test set est de 0.955 avec le KNeighborsClassifier model\n",
      "---------------------------------------n_neighbors= 24------------------------------------------\n",
      "\n"
     ]
    },
    {
     "data": {
      "image/png": "[encoded data removed]",
      "text/plain": [
       "<Figure size 432x288 with 1 Axes>"
      ]
     },
     "metadata": {
      "needs_background": "light"
     },
     "output_type": "display_data"
    }
   ],
   "source": [
    "from sklearn.neighbors import KNeighborsClassifier\n",
    "\n",
    "tab_score_train,tab_score_test = [],[]\n",
    "for n in range(5,25):\n",
    "    kn_clf = KNeighborsClassifier(n_neighbors=n)\n",
    "    kn_clf.fit(X_train,y_train.values.ravel())\n",
    "    score_train = kn_clf.score(X_train,y_train)\n",
    "    score_test = kn_clf.score(X_test,y_test)\n",
    "    print(\"Le score de train set est de {} avec le KNeighborsClassifier model\".format(score_train))\n",
    "    print(\"Le score de Test set est de {} avec le KNeighborsClassifier model\".format(score_test))\n",
    "    print(\"---------------------------------------n_neighbors= {}------------------------------------------\\n\".format(n))\n",
    "    tab_score_train.append(score_train)\n",
    "    tab_score_test.append(score_test)\n",
    "    \n",
    "\n",
    "plt.plot(tab_score_train,label= \"score de train set\")\n",
    "plt.plot(tab_score_test,label=\"score de test set\")\n",
    "plt.legend()\n",
    "plt.show()"
   ]
  },
  {
   "cell_type": "markdown",
   "metadata": {},
   "source": [
    "### Ici on remarque que en selectionnant les features importantes de notre dataset notre model  a gardé la même précision "
   ]
  },
  {
   "cell_type": "code",
   "execution_count": 31,
   "metadata": {},
   "outputs": [
    {
     "name": "stdout",
     "output_type": "stream",
     "text": [
      "Le model qui a fait le meilleur score  1.0\n",
      "Les meilleurs paramettres qui ont fait que ce model est le meilleur sont :  {'metric': 'euclidean', 'n_neighbors': 5}\n"
     ]
    }
   ],
   "source": [
    "from sklearn.model_selection import GridSearchCV\n",
    "#j'utilise un dictionnaire contenant les parametres\n",
    "#nombre de voisin à tester de 1 à 25\n",
    "#distance euclidean, manhattan ou minkowski \n",
    "params = {\"n_neighbors\": np.arange(5,25),\n",
    "        \"metric\":[\"euclidean\",\"manhattan\",\"minkowski\"]}\n",
    "gscv = GridSearchCV(KNeighborsClassifier(),params,cv=5)\n",
    "gscv.fit(X_train,y_train.values.ravel())\n",
    "\n",
    "\n",
    "print('Le model qui a fait le meilleur score ',gscv.best_score_)\n",
    "print(\"Les meilleurs paramettres qui ont fait que ce model est le meilleur sont : \",gscv.best_params_)"
   ]
  },
  {
   "cell_type": "markdown",
   "metadata": {},
   "source": [
    "Voilà pour les features seléctionné grâce au **SelectKBest** j'optiens un score de 100% aussi mais cette fois ci avec la  **métric Euclidean**, rapplons nous que dans la partie 2 de ce projet c'est la  **metric Manhattan** qui avait les meilleurs performances."
   ]
  },
  {
   "cell_type": "markdown",
   "metadata": {},
   "source": [
    "# Conclusion\n",
    "Après avoir tester plusieurs algos de **classification** et jouer avec les **hypers paramettres** tout en faisant un **preprocessing** de mon dataset et en utilisant **GridSearchCV** et la **crossValidation** pour avoir un modèle avec une meilleur performances pour prédire le niveau de cancer chez un patient, je conclu que le meilleur algo pour mon probléme de classification est le **KNeighborsClassifier** avec un nombre de voisin **n_neighbors** de 5.\n",
    "Je pense aussi que la qualité de mon **dataset** était meilleur néanmoins le **nombre de point** de mon dataset était de 1000 lignes mais ne m'a pas empêché d'entrainer mon modèle et obtenir des bons scores, cela me laisse penser aussi que si je passe plus de données à mon modèle, est ce qu'il restera aussi efficace?"
   ]
  }
 ],
 "metadata": {
  "kernelspec": {
   "display_name": "Python 3",
   "language": "python",
   "name": "python3"
  },
  "language_info": {
   "codemirror_mode": {
    "name": "ipython",
    "version": 3
   },
   "file_extension": ".py",
   "mimetype": "text/x-python",
   "name": "python",
   "nbconvert_exporter": "python",
   "pygments_lexer": "ipython3",
   "version": "3.8.5"
  }
 },
 "nbformat": 4,
 "nbformat_minor": 2
}
