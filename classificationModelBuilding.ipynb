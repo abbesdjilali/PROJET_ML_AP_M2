{
 "cells": [
  {
   "cell_type": "markdown",
   "metadata": {},
   "source": [
    "# ๏ Partie 2: Model Building"
   ]
  },
  {
   "cell_type": "markdown",
   "metadata": {},
   "source": [
    "2 algorithmes avec au moins 2 paramètres différents (ex: max_depth, n_estimators,….)\n",
    "Expliquer en vulgarisant le fonctionnement de vos algorithmes et ses paramètres"
   ]
  },
  {
   "cell_type": "markdown",
   "metadata": {},
   "source": [
    "### Importer nos librairies"
   ]
  },
  {
   "cell_type": "code",
   "execution_count": 1,
   "metadata": {},
   "outputs": [],
   "source": [
    "import pandas as pd\n",
    "import numpy as np\n",
    "import matplotlib.pyplot as plt\n",
    "%matplotlib inline "
   ]
  },
  {
   "cell_type": "markdown",
   "metadata": {},
   "source": [
    "### Importer notre dataset"
   ]
  },
  {
   "cell_type": "code",
   "execution_count": 72,
   "metadata": {},
   "outputs": [
    {
     "data": {
      "text/html": [
       "<div>\n",
       "<style scoped>\n",
       "    .dataframe tbody tr th:only-of-type {\n",
       "        vertical-align: middle;\n",
       "    }\n",
       "\n",
       "    .dataframe tbody tr th {\n",
       "        vertical-align: top;\n",
       "    }\n",
       "\n",
       "    .dataframe thead th {\n",
       "        text-align: right;\n",
       "    }\n",
       "</style>\n",
       "<table border=\"1\" class=\"dataframe\">\n",
       "  <thead>\n",
       "    <tr style=\"text-align: right;\">\n",
       "      <th></th>\n",
       "      <th>Unnamed: 0</th>\n",
       "      <th>Age</th>\n",
       "      <th>Gender</th>\n",
       "      <th>Air Pollution</th>\n",
       "      <th>Alcohol use</th>\n",
       "      <th>Dust Allergy</th>\n",
       "      <th>OccuPational Hazards</th>\n",
       "      <th>Genetic Risk</th>\n",
       "      <th>chronic Lung Disease</th>\n",
       "      <th>Balanced Diet</th>\n",
       "      <th>...</th>\n",
       "      <th>Fatigue</th>\n",
       "      <th>Weight Loss</th>\n",
       "      <th>Shortness of Breath</th>\n",
       "      <th>Wheezing</th>\n",
       "      <th>Swallowing Difficulty</th>\n",
       "      <th>Clubbing of Finger Nails</th>\n",
       "      <th>Frequent Cold</th>\n",
       "      <th>Dry Cough</th>\n",
       "      <th>Snoring</th>\n",
       "      <th>Level</th>\n",
       "    </tr>\n",
       "  </thead>\n",
       "  <tbody>\n",
       "    <tr>\n",
       "      <th>0</th>\n",
       "      <td>0</td>\n",
       "      <td>33</td>\n",
       "      <td>1</td>\n",
       "      <td>2</td>\n",
       "      <td>4</td>\n",
       "      <td>5</td>\n",
       "      <td>4</td>\n",
       "      <td>3</td>\n",
       "      <td>2</td>\n",
       "      <td>2</td>\n",
       "      <td>...</td>\n",
       "      <td>3</td>\n",
       "      <td>4</td>\n",
       "      <td>2</td>\n",
       "      <td>2</td>\n",
       "      <td>3</td>\n",
       "      <td>1</td>\n",
       "      <td>2</td>\n",
       "      <td>3</td>\n",
       "      <td>4</td>\n",
       "      <td>0</td>\n",
       "    </tr>\n",
       "    <tr>\n",
       "      <th>1</th>\n",
       "      <td>1</td>\n",
       "      <td>17</td>\n",
       "      <td>1</td>\n",
       "      <td>3</td>\n",
       "      <td>1</td>\n",
       "      <td>5</td>\n",
       "      <td>3</td>\n",
       "      <td>4</td>\n",
       "      <td>2</td>\n",
       "      <td>2</td>\n",
       "      <td>...</td>\n",
       "      <td>1</td>\n",
       "      <td>3</td>\n",
       "      <td>7</td>\n",
       "      <td>8</td>\n",
       "      <td>6</td>\n",
       "      <td>2</td>\n",
       "      <td>1</td>\n",
       "      <td>7</td>\n",
       "      <td>2</td>\n",
       "      <td>1</td>\n",
       "    </tr>\n",
       "    <tr>\n",
       "      <th>2</th>\n",
       "      <td>2</td>\n",
       "      <td>35</td>\n",
       "      <td>1</td>\n",
       "      <td>4</td>\n",
       "      <td>5</td>\n",
       "      <td>6</td>\n",
       "      <td>5</td>\n",
       "      <td>5</td>\n",
       "      <td>4</td>\n",
       "      <td>6</td>\n",
       "      <td>...</td>\n",
       "      <td>8</td>\n",
       "      <td>7</td>\n",
       "      <td>9</td>\n",
       "      <td>2</td>\n",
       "      <td>1</td>\n",
       "      <td>4</td>\n",
       "      <td>6</td>\n",
       "      <td>7</td>\n",
       "      <td>2</td>\n",
       "      <td>2</td>\n",
       "    </tr>\n",
       "    <tr>\n",
       "      <th>3</th>\n",
       "      <td>3</td>\n",
       "      <td>37</td>\n",
       "      <td>1</td>\n",
       "      <td>7</td>\n",
       "      <td>7</td>\n",
       "      <td>7</td>\n",
       "      <td>7</td>\n",
       "      <td>6</td>\n",
       "      <td>7</td>\n",
       "      <td>7</td>\n",
       "      <td>...</td>\n",
       "      <td>4</td>\n",
       "      <td>2</td>\n",
       "      <td>3</td>\n",
       "      <td>1</td>\n",
       "      <td>4</td>\n",
       "      <td>5</td>\n",
       "      <td>6</td>\n",
       "      <td>7</td>\n",
       "      <td>5</td>\n",
       "      <td>2</td>\n",
       "    </tr>\n",
       "    <tr>\n",
       "      <th>4</th>\n",
       "      <td>4</td>\n",
       "      <td>46</td>\n",
       "      <td>1</td>\n",
       "      <td>6</td>\n",
       "      <td>8</td>\n",
       "      <td>7</td>\n",
       "      <td>7</td>\n",
       "      <td>7</td>\n",
       "      <td>6</td>\n",
       "      <td>7</td>\n",
       "      <td>...</td>\n",
       "      <td>3</td>\n",
       "      <td>2</td>\n",
       "      <td>4</td>\n",
       "      <td>1</td>\n",
       "      <td>4</td>\n",
       "      <td>2</td>\n",
       "      <td>4</td>\n",
       "      <td>2</td>\n",
       "      <td>3</td>\n",
       "      <td>2</td>\n",
       "    </tr>\n",
       "  </tbody>\n",
       "</table>\n",
       "<p>5 rows × 25 columns</p>\n",
       "</div>"
      ],
      "text/plain": [
       "   Unnamed: 0  Age  Gender  Air Pollution  Alcohol use  Dust Allergy  \\\n",
       "0           0   33       1              2            4             5   \n",
       "1           1   17       1              3            1             5   \n",
       "2           2   35       1              4            5             6   \n",
       "3           3   37       1              7            7             7   \n",
       "4           4   46       1              6            8             7   \n",
       "\n",
       "   OccuPational Hazards  Genetic Risk  chronic Lung Disease  Balanced Diet  \\\n",
       "0                     4             3                     2              2   \n",
       "1                     3             4                     2              2   \n",
       "2                     5             5                     4              6   \n",
       "3                     7             6                     7              7   \n",
       "4                     7             7                     6              7   \n",
       "\n",
       "   ...  Fatigue  Weight Loss  Shortness of Breath  Wheezing  \\\n",
       "0  ...        3            4                    2         2   \n",
       "1  ...        1            3                    7         8   \n",
       "2  ...        8            7                    9         2   \n",
       "3  ...        4            2                    3         1   \n",
       "4  ...        3            2                    4         1   \n",
       "\n",
       "   Swallowing Difficulty  Clubbing of Finger Nails  Frequent Cold  Dry Cough  \\\n",
       "0                      3                         1              2          3   \n",
       "1                      6                         2              1          7   \n",
       "2                      1                         4              6          7   \n",
       "3                      4                         5              6          7   \n",
       "4                      4                         2              4          2   \n",
       "\n",
       "   Snoring  Level  \n",
       "0        4      0  \n",
       "1        2      1  \n",
       "2        2      2  \n",
       "3        5      2  \n",
       "4        3      2  \n",
       "\n",
       "[5 rows x 25 columns]"
      ]
     },
     "execution_count": 72,
     "metadata": {},
     "output_type": "execute_result"
    }
   ],
   "source": [
    "df = pd.read_csv('./data/new_cancer.csv')\n",
    "df.head()"
   ]
  },
  {
   "cell_type": "code",
   "execution_count": 73,
   "metadata": {},
   "outputs": [
    {
     "data": {
      "text/plain": [
       "['Age',\n",
       " 'Gender',\n",
       " 'Air Pollution',\n",
       " 'Alcohol use',\n",
       " 'Dust Allergy',\n",
       " 'OccuPational Hazards',\n",
       " 'Genetic Risk',\n",
       " 'chronic Lung Disease',\n",
       " 'Balanced Diet',\n",
       " 'Obesity',\n",
       " 'Smoking',\n",
       " 'Passive Smoker',\n",
       " 'Chest Pain',\n",
       " 'Coughing of Blood',\n",
       " 'Fatigue',\n",
       " 'Weight Loss',\n",
       " 'Shortness of Breath',\n",
       " 'Wheezing',\n",
       " 'Swallowing Difficulty',\n",
       " 'Clubbing of Finger Nails',\n",
       " 'Frequent Cold',\n",
       " 'Dry Cough',\n",
       " 'Snoring',\n",
       " 'Level']"
      ]
     },
     "execution_count": 73,
     "metadata": {},
     "output_type": "execute_result"
    }
   ],
   "source": [
    "# Drop Unnamed column\n",
    "df = df.drop(\"Unnamed: 0\",axis=1)\n",
    "list(df.columns)"
   ]
  },
  {
   "cell_type": "markdown",
   "metadata": {},
   "source": [
    "## Choix de nos variables\n"
   ]
  },
  {
   "cell_type": "code",
   "execution_count": 74,
   "metadata": {},
   "outputs": [],
   "source": [
    "\n",
    "# X = df[[\"Dust Allergy\",\"OccuPational Hazards\",\"Genetic Risk\",\"Obesity\",\"Coughing of Blood\"]]\n",
    "y = df[[\"Level\"]]\n",
    "X = df.drop('Level',axis=1)"
   ]
  },
  {
   "cell_type": "markdown",
   "metadata": {},
   "source": [
    "### Split data"
   ]
  },
  {
   "cell_type": "code",
   "execution_count": 75,
   "metadata": {},
   "outputs": [],
   "source": [
    "from sklearn.model_selection import train_test_split\n",
    "X_train, X_test, y_train, y_test = train_test_split( X, y, test_size=0.2)\n"
   ]
  },
  {
   "cell_type": "markdown",
   "metadata": {},
   "source": [
    "### Étant donné que notre dataset ne contient que 1000 lignes je commence par tester le model LinearSVC\n",
    "<img src=\"https://scikit-learn.org/stable/_static/ml_map.png\">\n"
   ]
  },
  {
   "cell_type": "markdown",
   "metadata": {},
   "source": [
    "## Créer notre model LinearSVC"
   ]
  },
  {
   "cell_type": "code",
   "execution_count": 76,
   "metadata": {},
   "outputs": [],
   "source": [
    "from sklearn.svm import LinearSVC"
   ]
  },
  {
   "cell_type": "code",
   "execution_count": 77,
   "metadata": {},
   "outputs": [
    {
     "name": "stderr",
     "output_type": "stream",
     "text": [
      "/home/djila/.local/lib/python3.8/site-packages/sklearn/utils/validation.py:63: DataConversionWarning: A column-vector y was passed when a 1d array was expected. Please change the shape of y to (n_samples, ), for example using ravel().\n",
      "  return f(*args, **kwargs)\n",
      "/home/djila/.local/lib/python3.8/site-packages/sklearn/svm/_base.py:985: ConvergenceWarning: Liblinear failed to converge, increase the number of iterations.\n",
      "  warnings.warn(\"Liblinear failed to converge, increase \"\n"
     ]
    },
    {
     "data": {
      "text/plain": [
       "LinearSVC()"
      ]
     },
     "execution_count": 77,
     "metadata": {},
     "output_type": "execute_result"
    }
   ],
   "source": [
    "# Instancier la class LinearSVC\n",
    "clf = LinearSVC()\n",
    "\n",
    "# Entrainer notre modéle\n",
    "clf.fit(X_train, y_train)"
   ]
  },
  {
   "cell_type": "code",
   "execution_count": 78,
   "metadata": {},
   "outputs": [
    {
     "name": "stdout",
     "output_type": "stream",
     "text": [
      "Score pour les données auquel le model est entrainer  0.99\n",
      "Score pour les données que le model n'a pas vu  0.98\n"
     ]
    }
   ],
   "source": [
    "print(\"Score pour les données auquel le model est entrainer \",clf.score(X_train,y_train))\n",
    "print(\"Score pour les données que le model n'a pas vu \",clf.score(X_test,y_test))"
   ]
  },
  {
   "cell_type": "markdown",
   "metadata": {},
   "source": [
    "### On remarque ici que notre model à un excelent score de 97,5%\n",
    "### Je vais donc faire de preprocessing à mon dataset pour voir si je peux amélioré le score "
   ]
  },
  {
   "cell_type": "code",
   "execution_count": 79,
   "metadata": {},
   "outputs": [
    {
     "name": "stdout",
     "output_type": "stream",
     "text": [
      "Score pour les données auquel le model est entrainer  1.0\n",
      "Score pour les données que le model n'a pas vu  1.0\n"
     ]
    },
    {
     "name": "stderr",
     "output_type": "stream",
     "text": [
      "/home/djila/.local/lib/python3.8/site-packages/sklearn/utils/validation.py:63: DataConversionWarning: A column-vector y was passed when a 1d array was expected. Please change the shape of y to (n_samples, ), for example using ravel().\n",
      "  return f(*args, **kwargs)\n"
     ]
    }
   ],
   "source": [
    "from sklearn.preprocessing import StandardScaler\n",
    "from sklearn.pipeline import make_pipeline\n",
    "clf_sc = make_pipeline(StandardScaler(),LinearSVC())\n",
    "clf_sc.fit(X_train,y_train)\n",
    "print(\"Score pour les données auquel le model est entrainer \",clf_sc.score(X_train,y_train))\n",
    "print(\"Score pour les données que le model n'a pas vu \",clf_sc.score(X_test,y_test))"
   ]
  },
  {
   "cell_type": "markdown",
   "metadata": {},
   "source": [
    "#### Après avoir fait le préprocessing avec StanderScaler j'obtiens un score de 100%, Excellente Résultats  "
   ]
  },
  {
   "cell_type": "markdown",
   "metadata": {},
   "source": [
    "### Tester un autre model pour voir si nous obtiendrons un meilleur score\n",
    "### Étant donné que mon dataset ne contient pas du text data Je vais tester le KNeighborsClassifier au lieu de Naive Bayes"
   ]
  },
  {
   "cell_type": "code",
   "execution_count": 137,
   "metadata": {},
   "outputs": [
    {
     "name": "stderr",
     "output_type": "stream",
     "text": [
      "/home/djila/.local/lib/python3.8/site-packages/sklearn/neighbors/_classification.py:179: DataConversionWarning: A column-vector y was passed when a 1d array was expected. Please change the shape of y to (n_samples,), for example using ravel().\n",
      "  return self._fit(X, y)\n"
     ]
    },
    {
     "name": "stdout",
     "output_type": "stream",
     "text": [
      "Le score de train set est de 0.99875 avec le KNeighborsClassifier model\n",
      "Le score de Test set est de 0.995 avec le KNeighborsClassifier model\n"
     ]
    }
   ],
   "source": [
    "from sklearn.neighbors import KNeighborsClassifier\n",
    "kn_clf_model = KNeighborsClassifier()\n",
    "kn_clf_model.fit(X_train,y_train)\n",
    "print(\"Le score de train set est de {} avec le KNeighborsClassifier model\".format(kn_clf_model.score(X_train,y_train)))\n",
    "print(\"Le score de Test set est de {} avec le KNeighborsClassifier model\".format(kn_clf_model.score(X_test,y_test)))"
   ]
  },
  {
   "cell_type": "code",
   "execution_count": 135,
   "metadata": {},
   "outputs": [
    {
     "name": "stdout",
     "output_type": "stream",
     "text": [
      "Le score de train set est de 0.99875 avec le KNeighborsClassifier model\n",
      "Le score de Test set est de 0.995 avec le KNeighborsClassifier model\n",
      "---------------------------------------n_neighbors= 6------------------------------------------\n",
      "\n",
      "Le score de train set est de 0.99875 avec le KNeighborsClassifier model\n",
      "Le score de Test set est de 0.995 avec le KNeighborsClassifier model\n",
      "---------------------------------------n_neighbors= 7------------------------------------------\n",
      "\n",
      "Le score de train set est de 0.99875 avec le KNeighborsClassifier model\n",
      "Le score de Test set est de 1.0 avec le KNeighborsClassifier model\n",
      "---------------------------------------n_neighbors= 8------------------------------------------\n",
      "\n",
      "Le score de train set est de 0.99875 avec le KNeighborsClassifier model\n",
      "Le score de Test set est de 1.0 avec le KNeighborsClassifier model\n",
      "---------------------------------------n_neighbors= 9------------------------------------------\n",
      "\n",
      "Le score de train set est de 0.99875 avec le KNeighborsClassifier model\n",
      "Le score de Test set est de 1.0 avec le KNeighborsClassifier model\n",
      "---------------------------------------n_neighbors= 10------------------------------------------\n",
      "\n",
      "Le score de train set est de 0.99875 avec le KNeighborsClassifier model\n",
      "Le score de Test set est de 1.0 avec le KNeighborsClassifier model\n",
      "---------------------------------------n_neighbors= 11------------------------------------------\n",
      "\n",
      "Le score de train set est de 0.99125 avec le KNeighborsClassifier model\n",
      "Le score de Test set est de 0.98 avec le KNeighborsClassifier model\n",
      "---------------------------------------n_neighbors= 12------------------------------------------\n",
      "\n",
      "Le score de train set est de 0.99125 avec le KNeighborsClassifier model\n",
      "Le score de Test set est de 0.98 avec le KNeighborsClassifier model\n",
      "---------------------------------------n_neighbors= 13------------------------------------------\n",
      "\n",
      "Le score de train set est de 0.9825 avec le KNeighborsClassifier model\n",
      "Le score de Test set est de 0.965 avec le KNeighborsClassifier model\n",
      "---------------------------------------n_neighbors= 14------------------------------------------\n",
      "\n",
      "Le score de train set est de 0.97375 avec le KNeighborsClassifier model\n",
      "Le score de Test set est de 0.95 avec le KNeighborsClassifier model\n",
      "---------------------------------------n_neighbors= 15------------------------------------------\n",
      "\n",
      "Le score de train set est de 0.97375 avec le KNeighborsClassifier model\n",
      "Le score de Test set est de 0.95 avec le KNeighborsClassifier model\n",
      "---------------------------------------n_neighbors= 16------------------------------------------\n",
      "\n",
      "Le score de train set est de 0.97375 avec le KNeighborsClassifier model\n",
      "Le score de Test set est de 0.95 avec le KNeighborsClassifier model\n",
      "---------------------------------------n_neighbors= 17------------------------------------------\n",
      "\n",
      "Le score de train set est de 0.97375 avec le KNeighborsClassifier model\n",
      "Le score de Test set est de 0.95 avec le KNeighborsClassifier model\n",
      "---------------------------------------n_neighbors= 18------------------------------------------\n",
      "\n",
      "Le score de train set est de 0.94875 avec le KNeighborsClassifier model\n",
      "Le score de Test set est de 0.955 avec le KNeighborsClassifier model\n",
      "---------------------------------------n_neighbors= 19------------------------------------------\n",
      "\n",
      "Le score de train set est de 0.94875 avec le KNeighborsClassifier model\n",
      "Le score de Test set est de 0.955 avec le KNeighborsClassifier model\n",
      "---------------------------------------n_neighbors= 20------------------------------------------\n",
      "\n",
      "Le score de train set est de 0.9275 avec le KNeighborsClassifier model\n",
      "Le score de Test set est de 0.94 avec le KNeighborsClassifier model\n",
      "---------------------------------------n_neighbors= 21------------------------------------------\n",
      "\n",
      "Le score de train set est de 0.9275 avec le KNeighborsClassifier model\n",
      "Le score de Test set est de 0.94 avec le KNeighborsClassifier model\n",
      "---------------------------------------n_neighbors= 22------------------------------------------\n",
      "\n",
      "Le score de train set est de 0.91875 avec le KNeighborsClassifier model\n",
      "Le score de Test set est de 0.93 avec le KNeighborsClassifier model\n",
      "---------------------------------------n_neighbors= 23------------------------------------------\n",
      "\n",
      "Le score de train set est de 0.9275 avec le KNeighborsClassifier model\n",
      "Le score de Test set est de 0.94 avec le KNeighborsClassifier model\n",
      "---------------------------------------n_neighbors= 24------------------------------------------\n",
      "\n"
     ]
    },
    {
     "data": {
      "image/png": "[encoded data removed]",
      "text/plain": [
       "<Figure size 432x288 with 1 Axes>"
      ]
     },
     "metadata": {
      "needs_background": "light"
     },
     "output_type": "display_data"
    }
   ],
   "source": [
    "tab_score_train,tab_score_test = [],[]\n",
    "for n in range(6,25):\n",
    "    kn_clf = KNeighborsClassifier(n_neighbors=n)\n",
    "    kn_clf.fit(X_train,y_train.values.ravel())\n",
    "    score_train = kn_clf.score(X_train,y_train)\n",
    "    score_test = kn_clf.score(X_test,y_test)\n",
    "    print(\"Le score de train set est de {} avec le KNeighborsClassifier model\".format(score_train))\n",
    "    print(\"Le score de Test set est de {} avec le KNeighborsClassifier model\".format(score_test))\n",
    "    print(\"---------------------------------------n_neighbors= {}------------------------------------------\\n\".format(n))\n",
    "    tab_score_train.append(score_train)\n",
    "    tab_score_test.append(score_test)\n",
    "    \n",
    "\n",
    "plt.plot(tab_score_train,label= \"score de train set\")\n",
    "plt.plot(tab_score_test,label=\"score de test set\")\n",
    "plt.legend()\n",
    "plt.show()"
   ]
  },
  {
   "cell_type": "markdown",
   "metadata": {},
   "source": [
    "#### Par defaut le nombre de voisin est de 5 et j'obtiens un score de 99% et si j'arrondi j'obtiens 100% je décide ensuite de jouer avec le nombre de voisin en faisant une boucle qui va de 6 à 25 pour tester l'efficacité de mon model. et je remarque meme si j'augmente le nombre de voisin à 24 j'obtiens un score de 94% comme le montre ce joli graph "
   ]
  },
  {
   "cell_type": "code",
   "execution_count": 134,
   "metadata": {},
   "outputs": [
    {
     "name": "stdout",
     "output_type": "stream",
     "text": [
      "Score pour les données auquel le model est entrainer  1.0\n",
      "Score pour les données que le model n'a pas vu  1.0\n"
     ]
    }
   ],
   "source": [
    "kn_sc = make_pipeline(StandardScaler(),KNeighborsClassifier(n_neighbors=10))\n",
    "kn_sc.fit(X_train,y_train.values.ravel())\n",
    "print(\"Score pour les données auquel le model est entrainer \",kn_sc.score(X_train,y_train))\n",
    "print(\"Score pour les données que le model n'a pas vu \",kn_sc.score(X_test,y_test))"
   ]
  },
  {
   "cell_type": "markdown",
   "metadata": {},
   "source": [
    "### c'est impréssionnant j'obtients un score de 100% on scalant mes données "
   ]
  },
  {
   "cell_type": "markdown",
   "metadata": {},
   "source": [
    "#### je fais ensuite une cross validation pour entrainer et valider mon model sur 5 parties c'est à dire de découper mon dataset en 5 partie en précisant le nombre de splite cv = 5"
   ]
  },
  {
   "cell_type": "code",
   "execution_count": 136,
   "metadata": {},
   "outputs": [
    {
     "data": {
      "text/plain": [
       "array([0.96875, 0.96875, 1.     , 1.     , 0.99375])"
      ]
     },
     "execution_count": 136,
     "metadata": {},
     "output_type": "execute_result"
    }
   ],
   "source": [
    "from sklearn.model_selection import cross_val_score\n",
    "cvs = cross_val_score(KNeighborsClassifier(),X_train,y_train.values.ravel(),cv=5)#.values.ravel() pour eviter les warrning\n",
    "cvs"
   ]
  },
  {
   "cell_type": "markdown",
   "metadata": {},
   "source": [
    "#### la cross validation me return un tableau avec 5 score c'est à dire pour chaque score on entraine le model avec 4 partie de notre dataset et on test avec la 5éme partie "
   ]
  },
  {
   "cell_type": "code",
   "execution_count": 123,
   "metadata": {},
   "outputs": [
    {
     "name": "stdout",
     "output_type": "stream",
     "text": [
      "Le score moyen de la cross validation est de : 98.625\n"
     ]
    }
   ],
   "source": [
    "# le score moyen de la cross validation\n",
    "print(\"Le score moyen de la cross validation est de :\",cvs.mean())"
   ]
  },
  {
   "cell_type": "markdown",
   "metadata": {},
   "source": [
    "ensuite pour tester les autres **hyper paramettres** comme le type de distance **Euclidean, manhattan ou minkowski** en changant **le nombre de voisin n_neighbors** pour obtenir une meilleur performance et éviter une **Over fitting**  j'utilise **GridSearchCV** "
   ]
  },
  {
   "cell_type": "code",
   "execution_count": 166,
   "metadata": {},
   "outputs": [
    {
     "name": "stdout",
     "output_type": "stream",
     "text": [
      "Le model qui a fait le meilleur score  0.99375\n",
      "Les meilleurs paramettres qui ont fait que ce model est le meilleur sont :  {'metric': 'manhattan', 'n_neighbors': 5}\n"
     ]
    }
   ],
   "source": [
    "from sklearn.model_selection import GridSearchCV\n",
    "#j'utilise un dictionnaire contenant les parametres\n",
    "#nombre de voisin à tester de 1 à 25\n",
    "#distance euclidean ou manhattan\n",
    "params = {\"n_neighbors\": np.arange(5,25),\n",
    "        \"metric\":[\"euclidean\",\"manhattan\",\"minkowski\"]}\n",
    "gscv = GridSearchCV(KNeighborsClassifier(),params,cv=5)\n",
    "gscv.fit(X_train,y_train.values.ravel())\n",
    "\n",
    "\n",
    "print('Le model qui a fait le meilleur score ',gscv.best_score_)\n",
    "print(\"Les meilleurs paramettres qui ont fait que ce model est le meilleur sont : \",gscv.best_params_)"
   ]
  },
  {
   "cell_type": "markdown",
   "metadata": {},
   "source": [
    "#### j'affiche ensuite le meilleur score grace à best_score et j'obtiens 99%\n",
    "#### j'affiche aussi les meilleurs paramettres de ce model avec best param, et je vois que la meilleurs metric pour mon model est celle de manhattan"
   ]
  },
  {
   "cell_type": "code",
   "execution_count": 167,
   "metadata": {},
   "outputs": [
    {
     "name": "stdout",
     "output_type": "stream",
     "text": [
      "Le score est de 100.0% pour le Test set \n"
     ]
    }
   ],
   "source": [
    "# afficher le score pour les données de test\n",
    "clf = gscv.best_estimator_\n",
    "print(\"Le score est de {}% pour le Test set \".format(clf.score(X_test,y_test) * 100))"
   ]
  },
  {
   "cell_type": "code",
   "execution_count": 169,
   "metadata": {
    "scrolled": true
   },
   "outputs": [
    {
     "name": "stdout",
     "output_type": "stream",
     "text": [
      "[[63  0  0]\n",
      " [ 0 68  0]\n",
      " [ 0  0 69]]\n"
     ]
    },
    {
     "data": {
      "text/plain": [
       "<sklearn.metrics._plot.confusion_matrix.ConfusionMatrixDisplay at 0x7fc56268e730>"
      ]
     },
     "execution_count": 169,
     "metadata": {},
     "output_type": "execute_result"
    },
    {
     "data": {
      "image/png": "[encoded data removed]",
      "text/plain": [
       "<Figure size 432x288 with 2 Axes>"
      ]
     },
     "metadata": {
      "needs_background": "light"
     },
     "output_type": "display_data"
    }
   ],
   "source": [
    "#afficher la confusion metric\n",
    "from sklearn.metrics import confusion_matrix\n",
    "from sklearn.metrics import plot_confusion_matrix\n",
    "print(confusion_matrix(y_test,clf.predict(X_test)))\n",
    "\n",
    "plot_confusion_matrix(clf, X_test, y_test,)"
   ]
  },
  {
   "cell_type": "markdown",
   "metadata": {},
   "source": [
    "### Dans cette matrix je vois que parmi les 63 patients qui ont un cancer Low mon model a prédit correctement et sans erreure \n",
    "### Ensuite parmi les 68 patients qui ont un cancer medium de mon test set, le model les a prédit avec 100% de précision dans leur class Medium\n",
    "### Enfin parmi les 69 patients qui ont un cancer high ont été bien prédites avec mon model"
   ]
  },
  {
   "cell_type": "markdown",
   "metadata": {},
   "source": [
    "## mon modéle est  précis à 100% il a prdit sans erreure le  niveau de cancer chez les 200 patients qu'il n'a jamais vu (auquel il ne s'est pas entrainé \"données de test\")"
   ]
  },
  {
   "cell_type": "code",
   "execution_count": null,
   "metadata": {},
   "outputs": [],
   "source": []
  }
 ],
 "metadata": {
  "interpreter": {
   "hash": "916dbcbb3f70747c44a77c7bcd40155683ae19c65e1c03b4aa3499c5328201f1"
  },
  "kernelspec": {
   "display_name": "Python 3",
   "language": "python",
   "name": "python3"
  },
  "language_info": {
   "codemirror_mode": {
    "name": "ipython",
    "version": 3
   },
   "file_extension": ".py",
   "mimetype": "text/x-python",
   "name": "python",
   "nbconvert_exporter": "python",
   "pygments_lexer": "ipython3",
   "version": "3.8.5"
  }
 },
 "nbformat": 4,
 "nbformat_minor": 2
}
